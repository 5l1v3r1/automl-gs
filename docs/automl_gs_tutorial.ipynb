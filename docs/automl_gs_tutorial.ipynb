{
 "cells": [
  {
   "cell_type": "markdown",
   "metadata": {},
   "source": [
    "# automl-gs Hello World\n",
    "\n",
    "#### by Max Woolf (@mimaxir)\n",
    "\n",
    "This notebook will give you an example on how automl-gs works with very little effort!\n",
    "\n",
    "(Note: this notebook assumes you have installed automs-gs, TensorFlow and xgboost on the system)"
   ]
  },
  {
   "cell_type": "code",
   "execution_count": 1,
   "metadata": {},
   "outputs": [],
   "source": [
    "from automl_gs import automl_grid_search\n",
    "import pandas as pd"
   ]
  },
  {
   "cell_type": "markdown",
   "metadata": {},
   "source": [
    "For this Hello World, we'll use the [Titanic dataset](http://web.stanford.edu/class/archive/cs/cs109/cs109.1166/problem12.html), which is small and good to make sure everything works. We'll try to predict `Survival`, i.e. if a person in the given row survived, and select the model that has the best `accuracy`. (a typical model with substantial preprocessing gets about 80% accuracy on this problem)\n",
    "\n",
    "We'll download the dataset; the CSV must be on the local system for automl-gs."
   ]
  },
  {
   "cell_type": "code",
   "execution_count": 2,
   "metadata": {},
   "outputs": [
    {
     "data": {
      "text/html": [
       "<div>\n",
       "<style scoped>\n",
       "    .dataframe tbody tr th:only-of-type {\n",
       "        vertical-align: middle;\n",
       "    }\n",
       "\n",
       "    .dataframe tbody tr th {\n",
       "        vertical-align: top;\n",
       "    }\n",
       "\n",
       "    .dataframe thead th {\n",
       "        text-align: right;\n",
       "    }\n",
       "</style>\n",
       "<table border=\"1\" class=\"dataframe\">\n",
       "  <thead>\n",
       "    <tr style=\"text-align: right;\">\n",
       "      <th></th>\n",
       "      <th>Survived</th>\n",
       "      <th>Pclass</th>\n",
       "      <th>Name</th>\n",
       "      <th>Sex</th>\n",
       "      <th>Age</th>\n",
       "      <th>Siblings/Spouses Aboard</th>\n",
       "      <th>Parents/Children Aboard</th>\n",
       "      <th>Fare</th>\n",
       "    </tr>\n",
       "  </thead>\n",
       "  <tbody>\n",
       "    <tr>\n",
       "      <th>0</th>\n",
       "      <td>0</td>\n",
       "      <td>3</td>\n",
       "      <td>Mr. Owen Harris Braund</td>\n",
       "      <td>male</td>\n",
       "      <td>22.0</td>\n",
       "      <td>1</td>\n",
       "      <td>0</td>\n",
       "      <td>7.2500</td>\n",
       "    </tr>\n",
       "    <tr>\n",
       "      <th>1</th>\n",
       "      <td>1</td>\n",
       "      <td>1</td>\n",
       "      <td>Mrs. John Bradley (Florence Briggs Thayer) Cum...</td>\n",
       "      <td>female</td>\n",
       "      <td>38.0</td>\n",
       "      <td>1</td>\n",
       "      <td>0</td>\n",
       "      <td>71.2833</td>\n",
       "    </tr>\n",
       "    <tr>\n",
       "      <th>2</th>\n",
       "      <td>1</td>\n",
       "      <td>3</td>\n",
       "      <td>Miss. Laina Heikkinen</td>\n",
       "      <td>female</td>\n",
       "      <td>26.0</td>\n",
       "      <td>0</td>\n",
       "      <td>0</td>\n",
       "      <td>7.9250</td>\n",
       "    </tr>\n",
       "    <tr>\n",
       "      <th>3</th>\n",
       "      <td>1</td>\n",
       "      <td>1</td>\n",
       "      <td>Mrs. Jacques Heath (Lily May Peel) Futrelle</td>\n",
       "      <td>female</td>\n",
       "      <td>35.0</td>\n",
       "      <td>1</td>\n",
       "      <td>0</td>\n",
       "      <td>53.1000</td>\n",
       "    </tr>\n",
       "    <tr>\n",
       "      <th>4</th>\n",
       "      <td>0</td>\n",
       "      <td>3</td>\n",
       "      <td>Mr. William Henry Allen</td>\n",
       "      <td>male</td>\n",
       "      <td>35.0</td>\n",
       "      <td>0</td>\n",
       "      <td>0</td>\n",
       "      <td>8.0500</td>\n",
       "    </tr>\n",
       "    <tr>\n",
       "      <th>5</th>\n",
       "      <td>0</td>\n",
       "      <td>3</td>\n",
       "      <td>Mr. James Moran</td>\n",
       "      <td>male</td>\n",
       "      <td>27.0</td>\n",
       "      <td>0</td>\n",
       "      <td>0</td>\n",
       "      <td>8.4583</td>\n",
       "    </tr>\n",
       "    <tr>\n",
       "      <th>6</th>\n",
       "      <td>0</td>\n",
       "      <td>1</td>\n",
       "      <td>Mr. Timothy J McCarthy</td>\n",
       "      <td>male</td>\n",
       "      <td>54.0</td>\n",
       "      <td>0</td>\n",
       "      <td>0</td>\n",
       "      <td>51.8625</td>\n",
       "    </tr>\n",
       "    <tr>\n",
       "      <th>7</th>\n",
       "      <td>0</td>\n",
       "      <td>3</td>\n",
       "      <td>Master. Gosta Leonard Palsson</td>\n",
       "      <td>male</td>\n",
       "      <td>2.0</td>\n",
       "      <td>3</td>\n",
       "      <td>1</td>\n",
       "      <td>21.0750</td>\n",
       "    </tr>\n",
       "    <tr>\n",
       "      <th>8</th>\n",
       "      <td>1</td>\n",
       "      <td>3</td>\n",
       "      <td>Mrs. Oscar W (Elisabeth Vilhelmina Berg) Johnson</td>\n",
       "      <td>female</td>\n",
       "      <td>27.0</td>\n",
       "      <td>0</td>\n",
       "      <td>2</td>\n",
       "      <td>11.1333</td>\n",
       "    </tr>\n",
       "    <tr>\n",
       "      <th>9</th>\n",
       "      <td>1</td>\n",
       "      <td>2</td>\n",
       "      <td>Mrs. Nicholas (Adele Achem) Nasser</td>\n",
       "      <td>female</td>\n",
       "      <td>14.0</td>\n",
       "      <td>1</td>\n",
       "      <td>0</td>\n",
       "      <td>30.0708</td>\n",
       "    </tr>\n",
       "  </tbody>\n",
       "</table>\n",
       "</div>"
      ],
      "text/plain": [
       "   Survived  Pclass                                               Name  \\\n",
       "0         0       3                             Mr. Owen Harris Braund   \n",
       "1         1       1  Mrs. John Bradley (Florence Briggs Thayer) Cum...   \n",
       "2         1       3                              Miss. Laina Heikkinen   \n",
       "3         1       1        Mrs. Jacques Heath (Lily May Peel) Futrelle   \n",
       "4         0       3                            Mr. William Henry Allen   \n",
       "5         0       3                                    Mr. James Moran   \n",
       "6         0       1                             Mr. Timothy J McCarthy   \n",
       "7         0       3                      Master. Gosta Leonard Palsson   \n",
       "8         1       3   Mrs. Oscar W (Elisabeth Vilhelmina Berg) Johnson   \n",
       "9         1       2                 Mrs. Nicholas (Adele Achem) Nasser   \n",
       "\n",
       "      Sex   Age  Siblings/Spouses Aboard  Parents/Children Aboard     Fare  \n",
       "0    male  22.0                        1                        0   7.2500  \n",
       "1  female  38.0                        1                        0  71.2833  \n",
       "2  female  26.0                        0                        0   7.9250  \n",
       "3  female  35.0                        1                        0  53.1000  \n",
       "4    male  35.0                        0                        0   8.0500  \n",
       "5    male  27.0                        0                        0   8.4583  \n",
       "6    male  54.0                        0                        0  51.8625  \n",
       "7    male   2.0                        3                        1  21.0750  \n",
       "8  female  27.0                        0                        2  11.1333  \n",
       "9  female  14.0                        1                        0  30.0708  "
      ]
     },
     "execution_count": 2,
     "metadata": {},
     "output_type": "execute_result"
    }
   ],
   "source": [
    "df = pd.read_csv('http://web.stanford.edu/class/archive/cs/cs109/cs109.1166/stuff/titanic.csv')\n",
    "df.to_csv('titanic.csv', index=False)\n",
    "df.head(10)"
   ]
  },
  {
   "cell_type": "markdown",
   "metadata": {},
   "source": [
    "Now we can run automl-gs with just one quick command! By default, automl-gs will use TensorFlow.\n",
    "\n",
    "automl-gs tries to automatically infer the problem type and the data types of the columns. During training, a progress bar will appear to tell you both how far the experiment is progressing, how far a given trial is progressing, times elapsed for both, and ETAs until completion for both."
   ]
  },
  {
   "cell_type": "code",
   "execution_count": 3,
   "metadata": {},
   "outputs": [
    {
     "name": "stdout",
     "output_type": "stream",
     "text": [
      "Solving a binary_classification problem, maximizing accuracy using tensorflow.\n",
      "\n",
      "Modeling with field specifications:\n",
      "Pclass: categorical\n",
      "Name: ignore\n",
      "Sex: categorical\n",
      "Age: numeric\n",
      "Siblings/Spouses Aboard: categorical\n",
      "Parents/Children Aboard: categorical\n",
      "Fare: numeric\n"
     ]
    },
    {
     "data": {
      "application/vnd.jupyter.widget-view+json": {
       "model_id": "8d741d5405fb44aaa9b22d61aefd21e0",
       "version_major": 2,
       "version_minor": 0
      },
      "text/plain": [
       "HBox(children=(IntProgress(value=0), HTML(value='')))"
      ]
     },
     "metadata": {},
     "output_type": "display_data"
    },
    {
     "data": {
      "application/vnd.jupyter.widget-view+json": {
       "model_id": "15aa1b26a0c44f61ba5ae60afeeee7b2",
       "version_major": 2,
       "version_minor": 0
      },
      "text/plain": [
       "HBox(children=(IntProgress(value=0, max=20), HTML(value='')))"
      ]
     },
     "metadata": {},
     "output_type": "display_data"
    },
    {
     "name": "stdout",
     "output_type": "stream",
     "text": [
      "\n",
      "Metrics:\n",
      "trial_id: ec32902c-7915-44ec-abfd-820d2c483e41\n",
      "epoch: 20\n",
      "time_completed: 2019-03-25 00:13:56\n",
      "log_loss: 0.6927925439809592\n",
      "accuracy: 0.6142322097378277\n",
      "auc: 0.5\n",
      "precision: 0.6142322097378277\n",
      "recall: 0.6142322097378277\n",
      "f1: 0.6142322097378277\n",
      "\n",
      "\n",
      "Metrics:\n",
      "trial_id: a604947c-8d0c-4cf0-bfee-dd47470e8033\n",
      "epoch: 20\n",
      "time_completed: 2019-03-25 00:14:09\n",
      "log_loss: 0.4649398927524518\n",
      "accuracy: 0.7865168539325843\n",
      "auc: 0.8289426947667535\n",
      "precision: 0.7865168539325843\n",
      "recall: 0.7865168539325843\n",
      "f1: 0.7865168539325842\n",
      "\n",
      "\n",
      "Metrics:\n",
      "trial_id: 38a1d264-ec71-4204-bd58-7c1a3849aaf5\n",
      "epoch: 20\n",
      "time_completed: 2019-03-25 00:15:01\n",
      "log_loss: 0.5828870279550524\n",
      "accuracy: 0.8052434456928839\n",
      "auc: 0.8241475254558371\n",
      "precision: 0.8052434456928839\n",
      "recall: 0.8052434456928839\n",
      "f1: 0.8052434456928839\n"
     ]
    }
   ],
   "source": [
    "automl_grid_search('titanic.csv', 'Survived')"
   ]
  },
  {
   "cell_type": "markdown",
   "metadata": {},
   "source": [
    "About 80.5% accuracy: not bad.\n",
    "\n",
    "The model files are saved in a time-stamped folder in the same directory, and `automl_results.csv` has the results from all the training."
   ]
  },
  {
   "cell_type": "markdown",
   "metadata": {},
   "source": [
    "You can use another framework like `xgboost`, or change the number of trials/epochs by passing it to `automl_grid_search`.\n",
    "\n",
    "xgboost runs substantially faster than TensorFlow, but may not be as robust on more complicated datasets."
   ]
  },
  {
   "cell_type": "code",
   "execution_count": 4,
   "metadata": {
    "scrolled": false
   },
   "outputs": [
    {
     "name": "stdout",
     "output_type": "stream",
     "text": [
      "Solving a binary_classification problem, maximizing accuracy using xgboost.\n",
      "\n",
      "Modeling with field specifications:\n",
      "Pclass: categorical\n",
      "Name: ignore\n",
      "Sex: categorical\n",
      "Age: numeric\n",
      "Siblings/Spouses Aboard: categorical\n",
      "Parents/Children Aboard: categorical\n",
      "Fare: numeric\n"
     ]
    },
    {
     "data": {
      "application/vnd.jupyter.widget-view+json": {
       "model_id": "28f5ac019fdc43b198ca7b15b71db788",
       "version_major": 2,
       "version_minor": 0
      },
      "text/plain": [
       "HBox(children=(IntProgress(value=0), HTML(value='')))"
      ]
     },
     "metadata": {},
     "output_type": "display_data"
    },
    {
     "data": {
      "application/vnd.jupyter.widget-view+json": {
       "model_id": "52fd4b484acd4463a16ef7257f579f8a",
       "version_major": 2,
       "version_minor": 0
      },
      "text/plain": [
       "HBox(children=(IntProgress(value=0, max=50), HTML(value='')))"
      ]
     },
     "metadata": {},
     "output_type": "display_data"
    },
    {
     "name": "stdout",
     "output_type": "stream",
     "text": [
      "\n",
      "Metrics:\n",
      "trial_id: 97c0ebe9-d03b-43f9-befc-08bfaf0b2c14\n",
      "epoch: 50\n",
      "time_completed: 2019-03-25 00:25:03\n",
      "log_loss: 0.6393894917063052\n",
      "accuracy: 0.6891385767790262\n",
      "auc: 0.6897643855079327\n",
      "precision: 0.6891385767790262\n",
      "recall: 0.6891385767790262\n",
      "f1: 0.6891385767790262\n",
      "\n",
      "\n",
      "Metrics:\n",
      "trial_id: d77ce1bb-51b0-459a-807a-284a93c1fc66\n",
      "epoch: 50\n",
      "time_completed: 2019-03-25 00:25:04\n",
      "log_loss: 0.5660474079378536\n",
      "accuracy: 0.7940074906367042\n",
      "auc: 0.8357506511958324\n",
      "precision: 0.7940074906367042\n",
      "recall: 0.7940074906367042\n",
      "f1: 0.7940074906367042\n",
      "\n",
      "\n",
      "Metrics:\n",
      "trial_id: d50fd10e-93b0-4f32-a8f8-cf4e4869ec01\n",
      "epoch: 50\n",
      "time_completed: 2019-03-25 00:25:09\n",
      "log_loss: 0.62283251035526\n",
      "accuracy: 0.797752808988764\n",
      "auc: 0.8229931328439498\n",
      "precision: 0.797752808988764\n",
      "recall: 0.797752808988764\n",
      "f1: 0.797752808988764\n",
      "\n",
      "\n",
      "Metrics:\n",
      "trial_id: a66fefdd-f0b2-4370-b5d1-9db585bb5f71\n",
      "epoch: 50\n",
      "time_completed: 2019-03-25 00:25:14\n",
      "log_loss: 0.4226235784171672\n",
      "accuracy: 0.8389513108614233\n",
      "auc: 0.853658536585366\n",
      "precision: 0.8389513108614233\n",
      "recall: 0.8389513108614233\n",
      "f1: 0.8389513108614233\n"
     ]
    }
   ],
   "source": [
    "automl_grid_search('titanic.csv', 'Survived', framework='xgboost', num_epochs=50)"
   ]
  },
  {
   "cell_type": "markdown",
   "metadata": {},
   "source": [
    "Meanwhile, xgboost got 83.9% accuracy on the same dataset in about 1/4th the time, even after massively increasing the number of epochs.\n",
    "\n",
    "Although automl-gs automates a lot of the option selection, it's encourages to still try multiple options."
   ]
  },
  {
   "cell_type": "markdown",
   "metadata": {},
   "source": [
    "# MIT License\n",
    "\n",
    "Copyright (c) 2019 Max Woolf\n",
    "\n",
    "Permission is hereby granted, free of charge, to any person obtaining a copy\n",
    "of this software and associated documentation files (the \"Software\"), to deal\n",
    "in the Software without restriction, including without limitation the rights\n",
    "to use, copy, modify, merge, publish, distribute, sublicense, and/or sell\n",
    "copies of the Software, and to permit persons to whom the Software is\n",
    "furnished to do so, subject to the following conditions:\n",
    "\n",
    "The above copyright notice and this permission notice shall be included in all\n",
    "copies or substantial portions of the Software.\n",
    "\n",
    "THE SOFTWARE IS PROVIDED \"AS IS\", WITHOUT WARRANTY OF ANY KIND, EXPRESS OR\n",
    "IMPLIED, INCLUDING BUT NOT LIMITED TO THE WARRANTIES OF MERCHANTABILITY,\n",
    "FITNESS FOR A PARTICULAR PURPOSE AND NONINFRINGEMENT. IN NO EVENT SHALL THE\n",
    "AUTHORS OR COPYRIGHT HOLDERS BE LIABLE FOR ANY CLAIM, DAMAGES OR OTHER\n",
    "LIABILITY, WHETHER IN AN ACTION OF CONTRACT, TORT OR OTHERWISE, ARISING FROM,\n",
    "OUT OF OR IN CONNECTION WITH THE SOFTWARE OR THE USE OR OTHER DEALINGS IN THE\n",
    "SOFTWARE."
   ]
  }
 ],
 "metadata": {
  "kernelspec": {
   "display_name": "Python 3",
   "language": "python",
   "name": "python3"
  },
  "language_info": {
   "codemirror_mode": {
    "name": "ipython",
    "version": 3
   },
   "file_extension": ".py",
   "mimetype": "text/x-python",
   "name": "python",
   "nbconvert_exporter": "python",
   "pygments_lexer": "ipython3",
   "version": "3.7.2"
  }
 },
 "nbformat": 4,
 "nbformat_minor": 2
}
